{
  "nbformat": 4,
  "nbformat_minor": 0,
  "metadata": {
    "colab": {
      "name": "Project.ipynb",
      "provenance": [],
      "collapsed_sections": [],
      "include_colab_link": true
    },
    "kernelspec": {
      "display_name": "Python 3",
      "name": "python3"
    },
    "language_info": {
      "name": "python"
    }
  },
  "cells": [
    {
      "cell_type": "markdown",
      "metadata": {
        "id": "view-in-github",
        "colab_type": "text"
      },
      "source": [
        "<a href=\"https://colab.research.google.com/github/Casatimartina/Algorithm-for-Massive-dataset/blob/main/Market-basket%20analysis.ipynb\" target=\"_parent\"><img src=\"https://colab.research.google.com/assets/colab-badge.svg\" alt=\"Open In Colab\"/></a>"
      ]
    },
    {
      "cell_type": "markdown",
      "metadata": {
        "id": "Ui3yi7MSt6yv"
      },
      "source": [
        "# Market basket analysis: IMDb Dataset"
      ]
    },
    {
      "cell_type": "markdown",
      "metadata": {
        "id": "PhrGqYPMused"
      },
      "source": [
        "#### Casati Martina (942413)\n",
        "#### Frattini Andrea (959213) \n",
        "#####DSE(2020-2021)"
      ]
    },
    {
      "cell_type": "markdown",
      "metadata": {
        "id": "JyTWXPlwudwA"
      },
      "source": [
        "## Download the dataset through Kaggle API"
      ]
    },
    {
      "cell_type": "markdown",
      "metadata": {
        "id": "GW9ghVl9QDQl"
      },
      "source": [
        "First, upload the kaggle file in which is stored the username and the key for dowloading the dataset"
      ]
    },
    {
      "cell_type": "code",
      "metadata": {
        "id": "HzRkZmqx67nz",
        "colab": {
          "resources": {
            "http://localhost:8080/nbextensions/google.colab/files.js": {
              "data": "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",
              "ok": true,
              "headers": [
                [
                  "content-type",
                  "application/javascript"
                ]
              ],
              "status": 200,
              "status_text": ""
            }
          },
          "base_uri": "https://localhost:8080/",
          "height": 72
        },
        "outputId": "8590490e-9d8d-4014-8a37-31336bb22577"
      },
      "source": [
        "from google.colab import files\n",
        "uploaded = files.upload()\n",
        "\n",
        "import os\n",
        "os.environ['KAGGLE_CONFIG_DIR'] = '/content'"
      ],
      "execution_count": null,
      "outputs": [
        {
          "output_type": "display_data",
          "data": {
            "text/html": [
              "\n",
              "     <input type=\"file\" id=\"files-1239421c-c34d-4d73-bcba-18731c7d57a3\" name=\"files[]\" multiple disabled\n",
              "        style=\"border:none\" />\n",
              "     <output id=\"result-1239421c-c34d-4d73-bcba-18731c7d57a3\">\n",
              "      Upload widget is only available when the cell has been executed in the\n",
              "      current browser session. Please rerun this cell to enable.\n",
              "      </output>\n",
              "      <script src=\"/nbextensions/google.colab/files.js\"></script> "
            ],
            "text/plain": [
              "<IPython.core.display.HTML object>"
            ]
          },
          "metadata": {
            "tags": []
          }
        },
        {
          "output_type": "stream",
          "text": [
            "Saving kaggle.json to kaggle.json\n"
          ],
          "name": "stdout"
        }
      ]
    },
    {
      "cell_type": "markdown",
      "metadata": {
        "id": "wZ9oFfSJQYvT"
      },
      "source": [
        "Then we check which is our dataset of interest"
      ]
    },
    {
      "cell_type": "code",
      "metadata": {
        "colab": {
          "base_uri": "https://localhost:8080/"
        },
        "id": "H4MUQoVnKA6v",
        "outputId": "a66dac6b-d9b9-4827-8e4b-57d8590c564a"
      },
      "source": [
        "!kaggle datasets list -s 'IMDb Dataset'"
      ],
      "execution_count": null,
      "outputs": [
        {
          "output_type": "stream",
          "text": [
            "Warning: Your Kaggle API key is readable by other users on this system! To fix this, you can run 'chmod 600 /content/kaggle.json'\n",
            "Warning: Looks like you're using an outdated API Version, please consider updating (server 1.5.12 / client 1.5.4)\n",
            "ref                                                             title                                              size  lastUpdated          downloadCount  \n",
            "--------------------------------------------------------------  ------------------------------------------------  -----  -------------------  -------------  \n",
            "ashirwadsangwan/imdb-dataset                                    IMDb Dataset                                        1GB  2019-11-18 18:36:47           7662  \n",
            "stefanoleone992/imdb-extensive-dataset                          IMDb movies extensive dataset                      82MB  2020-09-14 19:02:52          25602  \n",
            "harshitshankhdhar/imdb-dataset-of-top-1000-movies-and-tv-shows  IMDB Movies Dataset                               175KB  2021-02-01 07:35:48           4413  \n",
            "lakshmi25npathi/imdb-dataset-of-50k-movie-reviews               IMDB Dataset of 50K Movie Reviews                  26MB  2019-03-09 06:32:21          46235  \n",
            "utathya/imdb-review-dataset                                     IMDB Review Dataset                                51MB  2018-01-16 17:53:30          11523  \n",
            "rmisra/imdb-spoiler-dataset                                     IMDB Spoiler Dataset                              331MB  2019-05-22 04:44:43           1473  \n",
            "carolzhangdc/imdb-5000-movie-dataset                            IMDB 5000 Movie Dataset                           554KB  2017-12-16 06:54:20          24824  \n",
            "PromptCloudHQ/imdb-data                                         IMDB data from 2006 to 2016                       134KB  2017-06-26 07:32:04          25212  \n",
            "columbine/imdb-dataset-sentiment-analysis-in-csv-format         IMDB dataset (Sentiment analysis) in CSV format    26MB  2019-11-28 15:44:05           6360  \n",
            "luisfredgs/imdb-ptbr                                            IMDB PT-BR                                         48MB  2018-09-10 19:53:46           3357  \n",
            "sankha1998/tmdb-top-10000-popular-movies-dataset                Popular Movies of IMDb                              1MB  2021-07-01 06:52:33            844  \n",
            "luiscorter/netflix-original-films-imdb-scores                   Netflix Original Films & IMDB Scores               12KB  2021-06-03 23:24:57           1792  \n",
            "harshitshankhdhar/tv-series-dataset                             IMDB TV Series Dataset                            316KB  2021-02-21 13:28:03            558  \n",
            "ebiswas/imdb-review-dataset                                     IMDb Largest Review Dataset                         3GB  2021-01-11 18:49:12            301  \n",
            "hetulmehta/marvel-vs-dc-imdb-dataset                            Marvel VS DC IMDB Dataset                         140KB  2021-06-03 12:39:27            489  \n",
            "varun08/imdb-dataset                                            imdb Dataset                                       26MB  2019-11-18 04:47:48           1410  \n",
            "hijest/genre-classification-dataset-imdb                        Genre Classification Dataset IMDb                  42MB  2021-06-18 09:23:46             70  \n",
            "ruchi798/movies-on-netflix-prime-video-hulu-and-disney          Movies on Netflix, Prime Video, Hulu and Disney+  627KB  2020-05-22 23:48:01          14971  \n",
            "adrianmcmahon/imdb-india-movies                                 IMDb India Movies                                 494KB  2021-06-18 01:04:21            185  \n",
            "shivamb/netflix-shows                                           Netflix Movies and TV Shows                         1MB  2021-01-18 16:20:26         152289  \n"
          ],
          "name": "stdout"
        }
      ]
    },
    {
      "cell_type": "markdown",
      "metadata": {
        "id": "HcVhxAFxRDc8"
      },
      "source": [
        "From the list above we see that the first dataset (\"IMDb Dataset\") is the right one, so we dowload it"
      ]
    },
    {
      "cell_type": "code",
      "metadata": {
        "colab": {
          "base_uri": "https://localhost:8080/"
        },
        "id": "0z81_BcHMzE2",
        "outputId": "2d12fecf-84b9-46b5-db65-375f60ba2606"
      },
      "source": [
        "!kaggle datasets download -d 'ashirwadsangwan/imdb-dataset'"
      ],
      "execution_count": null,
      "outputs": [
        {
          "output_type": "stream",
          "text": [
            "Warning: Your Kaggle API key is readable by other users on this system! To fix this, you can run 'chmod 600 /content/kaggle.json'\n",
            "Downloading imdb-dataset.zip to /content\n",
            "100% 1.44G/1.44G [00:15<00:00, 112MB/s]\n",
            "100% 1.44G/1.44G [00:15<00:00, 103MB/s]\n"
          ],
          "name": "stdout"
        }
      ]
    },
    {
      "cell_type": "markdown",
      "metadata": {
        "id": "2YvXOGSoRbIR"
      },
      "source": [
        "Through the string below we extrapolate the files"
      ]
    },
    {
      "cell_type": "code",
      "metadata": {
        "colab": {
          "base_uri": "https://localhost:8080/"
        },
        "id": "NiHmbY7LNfVL",
        "outputId": "406a4b04-0417-45fb-c7d9-05a299c2b4c1"
      },
      "source": [
        "!unzip \\*.zip && rm *.zip"
      ],
      "execution_count": null,
      "outputs": [
        {
          "output_type": "stream",
          "text": [
            "Archive:  imdb-dataset.zip\n",
            "  inflating: name.basics.tsv.gz      \n",
            "  inflating: name.basics.tsv/name.basics.tsv  \n",
            "  inflating: title.akas.tsv.gz       \n",
            "  inflating: title.akas.tsv/title.akas.tsv  \n",
            "  inflating: title.basics.tsv.gz     \n",
            "  inflating: title.basics.tsv/title.basics.tsv  \n",
            "  inflating: title.principals.tsv.gz  \n",
            "  inflating: title.principals.tsv/title.principals.tsv  \n",
            "  inflating: title.ratings.tsv.gz    \n",
            "  inflating: title.ratings.tsv/title.ratings.tsv  \n"
          ],
          "name": "stdout"
        }
      ]
    },
    {
      "cell_type": "markdown",
      "metadata": {
        "id": "TAikABBtv62e"
      },
      "source": [
        "## Setting up the COLAB environment"
      ]
    },
    {
      "cell_type": "markdown",
      "metadata": {
        "id": "wals1S1sR9mr"
      },
      "source": [
        "With the first part of this code we set up the Spark environment and secondly we import all the packages necessary for managing and analyzing the dataset"
      ]
    },
    {
      "cell_type": "code",
      "metadata": {
        "colab": {
          "base_uri": "https://localhost:8080/"
        },
        "id": "9fdNb21qFOmQ",
        "outputId": "5bb20bc1-7946-4d7b-fda3-13513550e270"
      },
      "source": [
        "!pip3 install pyspark\n",
        "import pyspark\n",
        "from pyspark import SparkConf\n",
        "from pyspark import SparkContext\n",
        "from pyspark.sql import SparkSession\n",
        "from pyspark.sql import SQLContext\n",
        "from pyspark.sql.functions import collect_set, col, count\n",
        "\n",
        "import itertools\n",
        "\n",
        "import pandas as pd\n",
        "\n",
        "import time\n",
        "\n",
        "import matplotlib.pyplot as plt"
      ],
      "execution_count": null,
      "outputs": [
        {
          "output_type": "stream",
          "text": [
            "Collecting pyspark\n",
            "\u001b[?25l  Downloading https://files.pythonhosted.org/packages/89/db/e18cfd78e408de957821ec5ca56de1250645b05f8523d169803d8df35a64/pyspark-3.1.2.tar.gz (212.4MB)\n",
            "\u001b[K     |████████████████████████████████| 212.4MB 67kB/s \n",
            "\u001b[?25hCollecting py4j==0.10.9\n",
            "\u001b[?25l  Downloading https://files.pythonhosted.org/packages/9e/b6/6a4fb90cd235dc8e265a6a2067f2a2c99f0d91787f06aca4bcf7c23f3f80/py4j-0.10.9-py2.py3-none-any.whl (198kB)\n",
            "\u001b[K     |████████████████████████████████| 204kB 15.2MB/s \n",
            "\u001b[?25hBuilding wheels for collected packages: pyspark\n",
            "  Building wheel for pyspark (setup.py) ... \u001b[?25l\u001b[?25hdone\n",
            "  Created wheel for pyspark: filename=pyspark-3.1.2-py2.py3-none-any.whl size=212880768 sha256=9e5e4ede30e4a5224cf982a54e42370b7e8d85aac27720ae517e77176869d1e4\n",
            "  Stored in directory: /root/.cache/pip/wheels/40/1b/2c/30f43be2627857ab80062bef1527c0128f7b4070b6b2d02139\n",
            "Successfully built pyspark\n",
            "Installing collected packages: py4j, pyspark\n",
            "Successfully installed py4j-0.10.9 pyspark-3.1.2\n"
          ],
          "name": "stdout"
        }
      ]
    },
    {
      "cell_type": "markdown",
      "metadata": {
        "id": "OIKwxuag8_Ok"
      },
      "source": [
        "Here we set the SparkConf"
      ]
    },
    {
      "cell_type": "code",
      "metadata": {
        "id": "SgeeTrpeNirI"
      },
      "source": [
        "conf = SparkConf().setAppName(\"MarketBasketAnalysis\")\n",
        "conf = (conf.setMaster('local[*]')\n",
        "        .set('spark.executor.memory', '16G')\n",
        "        .set('spark.driver.memory', '60G')\n",
        "        .set('spark.driver.maxResultSize', '12G'))\n",
        "sc = SparkContext( conf= conf)"
      ],
      "execution_count": null,
      "outputs": []
    },
    {
      "cell_type": "markdown",
      "metadata": {
        "id": "U8Xr_LE4zqrq"
      },
      "source": [
        "## Setting up the Jupyter Notebook environment for the VM of Google Cloud Platform"
      ]
    },
    {
      "cell_type": "markdown",
      "metadata": {
        "id": "YIjQ3zjS9bL4"
      },
      "source": [
        "ATTENTION: from here on, if you want to run the codes using a VM you need to substitute sqlContext command with spark"
      ]
    },
    {
      "cell_type": "code",
      "metadata": {
        "id": "PS-6oh6lzxDB",
        "colab": {
          "base_uri": "https://localhost:8080/"
        },
        "outputId": "61b6f365-6666-429b-ae66-b64ccedf2c45"
      },
      "source": [
        "!pip install pyspark\n",
        "import pyspark\n",
        "from pyspark import SparkContext\n",
        "sc = pyspark.SparkContext('local[*]')\n",
        "from pyspark.sql import SparkSession\n",
        "from pyspark.sql.functions import collect_set, col, count\n",
        "spark = SparkSession.builder.appName(\"Market Basekt Analysis\").getOrCreate()\n",
        "\n",
        "import itertools\n",
        "\n",
        "import pandas as pd\n",
        "\n",
        "import time\n",
        "\n",
        "import matplotlib.pyplot as plt"
      ],
      "execution_count": null,
      "outputs": [
        {
          "output_type": "stream",
          "text": [
            "Requirement already satisfied: pyspark in /opt/conda/lib/python3.7/site-packages (3.1.2)\r\n",
            "Requirement already satisfied: py4j==0.10.9 in /opt/conda/lib/python3.7/site-packages (from pyspark) (0.10.9)\r\n"
          ],
          "name": "stdout"
        }
      ]
    },
    {
      "cell_type": "markdown",
      "metadata": {
        "id": "Zt0KAfh1xCK1"
      },
      "source": [
        "## Loading the datasets"
      ]
    },
    {
      "cell_type": "markdown",
      "metadata": {
        "id": "fpiGOlPfSfe5"
      },
      "source": [
        "First we import the tables of interest assigning to them intuitive labels. Secondly we show the first 10 rows of each one to understand how they are structured."
      ]
    },
    {
      "cell_type": "code",
      "metadata": {
        "id": "mNiK2MPDNfgd"
      },
      "source": [
        "sqlContext = SQLContext(sc)\n",
        "FilmTitle = sqlContext.read.csv(\"/content/title.basics.tsv\", sep=r'\\t', header=True)\n",
        "Job = sqlContext.read.csv(\"/content/title.principals.tsv\", sep=r'\\t', header=True)\n",
        "NamesCast = sqlContext.read.csv(\"/content/name.basics.tsv\", sep=r'\\t', header=True)"
      ],
      "execution_count": null,
      "outputs": []
    },
    {
      "cell_type": "code",
      "metadata": {
        "colab": {
          "base_uri": "https://localhost:8080/"
        },
        "id": "99OPsHg2M3Qj",
        "outputId": "1e05b76b-bd5b-484d-977c-a3d3aa5c8784"
      },
      "source": [
        "FilmTitle.show(10)"
      ],
      "execution_count": null,
      "outputs": [
        {
          "output_type": "stream",
          "text": [
            "+---------+---------+--------------------+--------------------+-------+---------+-------+--------------+--------------------+\n",
            "|   tconst|titleType|        primaryTitle|       originalTitle|isAdult|startYear|endYear|runtimeMinutes|              genres|\n",
            "+---------+---------+--------------------+--------------------+-------+---------+-------+--------------+--------------------+\n",
            "|tt0000001|    short|          Carmencita|          Carmencita|      0|     1894|     \\N|             1|   Documentary,Short|\n",
            "|tt0000002|    short|Le clown et ses c...|Le clown et ses c...|      0|     1892|     \\N|             5|     Animation,Short|\n",
            "|tt0000003|    short|      Pauvre Pierrot|      Pauvre Pierrot|      0|     1892|     \\N|             4|Animation,Comedy,...|\n",
            "|tt0000004|    short|         Un bon bock|         Un bon bock|      0|     1892|     \\N|            \\N|     Animation,Short|\n",
            "|tt0000005|    short|    Blacksmith Scene|    Blacksmith Scene|      0|     1893|     \\N|             1|        Comedy,Short|\n",
            "|tt0000006|    short|   Chinese Opium Den|   Chinese Opium Den|      0|     1894|     \\N|             1|               Short|\n",
            "|tt0000007|    short|Corbett and Court...|Corbett and Court...|      0|     1894|     \\N|             1|         Short,Sport|\n",
            "|tt0000008|    short|Edison Kinetoscop...|Edison Kinetoscop...|      0|     1894|     \\N|             1|   Documentary,Short|\n",
            "|tt0000009|    movie|          Miss Jerry|          Miss Jerry|      0|     1894|     \\N|            45|             Romance|\n",
            "|tt0000010|    short| Exiting the Factory|La sortie de l'us...|      0|     1895|     \\N|             1|   Documentary,Short|\n",
            "+---------+---------+--------------------+--------------------+-------+---------+-------+--------------+--------------------+\n",
            "only showing top 10 rows\n",
            "\n"
          ],
          "name": "stdout"
        }
      ]
    },
    {
      "cell_type": "code",
      "metadata": {
        "colab": {
          "base_uri": "https://localhost:8080/"
        },
        "id": "YQSUl5VyMz-J",
        "outputId": "a6de117f-8706-4b6e-cef1-da6349b624b9"
      },
      "source": [
        "Job.show(10)"
      ],
      "execution_count": null,
      "outputs": [
        {
          "output_type": "stream",
          "text": [
            "+---------+--------+---------+---------------+--------------------+-----------+\n",
            "|   tconst|ordering|   nconst|       category|                 job| characters|\n",
            "+---------+--------+---------+---------------+--------------------+-----------+\n",
            "|tt0000001|       1|nm1588970|           self|                  \\N|[\"Herself\"]|\n",
            "|tt0000001|       2|nm0005690|       director|                  \\N|         \\N|\n",
            "|tt0000001|       3|nm0374658|cinematographer|director of photo...|         \\N|\n",
            "|tt0000002|       1|nm0721526|       director|                  \\N|         \\N|\n",
            "|tt0000002|       2|nm1335271|       composer|                  \\N|         \\N|\n",
            "|tt0000003|       1|nm0721526|       director|                  \\N|         \\N|\n",
            "|tt0000003|       2|nm5442194|       producer|            producer|         \\N|\n",
            "|tt0000003|       3|nm1335271|       composer|                  \\N|         \\N|\n",
            "|tt0000003|       4|nm5442200|         editor|                  \\N|         \\N|\n",
            "|tt0000004|       1|nm0721526|       director|                  \\N|         \\N|\n",
            "+---------+--------+---------+---------------+--------------------+-----------+\n",
            "only showing top 10 rows\n",
            "\n"
          ],
          "name": "stdout"
        }
      ]
    },
    {
      "cell_type": "code",
      "metadata": {
        "colab": {
          "base_uri": "https://localhost:8080/"
        },
        "id": "a43LqEmjMLQ8",
        "outputId": "2bf40c3a-1664-4481-8edd-2cd6bffb0c39"
      },
      "source": [
        "NamesCast.show(10)"
      ],
      "execution_count": null,
      "outputs": [
        {
          "output_type": "stream",
          "text": [
            "+---------+---------------+---------+---------+--------------------+--------------------+\n",
            "|   nconst|    primaryName|birthYear|deathYear|   primaryProfession|      knownForTitles|\n",
            "+---------+---------------+---------+---------+--------------------+--------------------+\n",
            "|nm0000001|   Fred Astaire|     1899|     1987|soundtrack,actor,...|tt0050419,tt00531...|\n",
            "|nm0000002|  Lauren Bacall|     1924|     2014|  actress,soundtrack|tt0071877,tt01170...|\n",
            "|nm0000003|Brigitte Bardot|     1934|       \\N|actress,soundtrac...|tt0054452,tt00491...|\n",
            "|nm0000004|   John Belushi|     1949|     1982|actor,writer,soun...|tt0077975,tt00725...|\n",
            "|nm0000005| Ingmar Bergman|     1918|     2007|writer,director,a...|tt0069467,tt00509...|\n",
            "|nm0000006| Ingrid Bergman|     1915|     1982|actress,soundtrac...|tt0038109,tt00368...|\n",
            "|nm0000007|Humphrey Bogart|     1899|     1957|actor,soundtrack,...|tt0043265,tt00338...|\n",
            "|nm0000008|  Marlon Brando|     1924|     2004|actor,soundtrack,...|tt0070849,tt00787...|\n",
            "|nm0000009| Richard Burton|     1925|     1984|actor,producer,so...|tt0057877,tt00878...|\n",
            "|nm0000010|   James Cagney|     1899|     1986|actor,soundtrack,...|tt0035575,tt00318...|\n",
            "+---------+---------------+---------+---------+--------------------+--------------------+\n",
            "only showing top 10 rows\n",
            "\n"
          ],
          "name": "stdout"
        }
      ]
    },
    {
      "cell_type": "markdown",
      "metadata": {
        "id": "8V8BYcM8OuHo"
      },
      "source": [
        "## PreProcessing"
      ]
    },
    {
      "cell_type": "markdown",
      "metadata": {
        "id": "dwtTWYsERWxC"
      },
      "source": [
        "First we set the Spark SQL environment "
      ]
    },
    {
      "cell_type": "code",
      "metadata": {
        "id": "7wzB5wTjOxVo"
      },
      "source": [
        "FilmTitle.createOrReplaceTempView(\"FilmTitle\")\n",
        "Job.createOrReplaceTempView(\"Job\")"
      ],
      "execution_count": null,
      "outputs": []
    },
    {
      "cell_type": "markdown",
      "metadata": {
        "id": "Texx0V4eSbZ2"
      },
      "source": [
        "Secondly, since we need to consider actors and actresses as items, we extrapolate them from the \"Job\" table"
      ]
    },
    {
      "cell_type": "code",
      "metadata": {
        "colab": {
          "base_uri": "https://localhost:8080/"
        },
        "id": "DJr7FhahSayo",
        "outputId": "da0082e0-998e-4ffe-b2a7-0b714683edd9"
      },
      "source": [
        "actors =  \"\"\" SELECT *\n",
        "              FROM Job\n",
        "              WHERE (category = 'actor') OR (category = 'actress')\n",
        "\"\"\"\n",
        "actors = sqlContext.sql(actors)\n",
        "actors.show(10)"
      ],
      "execution_count": null,
      "outputs": [
        {
          "output_type": "stream",
          "text": [
            "+---------+--------+---------+--------+---+--------------------+\n",
            "|   tconst|ordering|   nconst|category|job|          characters|\n",
            "+---------+--------+---------+--------+---+--------------------+\n",
            "|tt0000005|       1|nm0443482|   actor| \\N|      [\"Blacksmith\"]|\n",
            "|tt0000005|       2|nm0653042|   actor| \\N|       [\"Assistant\"]|\n",
            "|tt0000007|       1|nm0179163|   actor| \\N|                  \\N|\n",
            "|tt0000007|       2|nm0183947|   actor| \\N|                  \\N|\n",
            "|tt0000008|       1|nm0653028|   actor| \\N|    [\"Sneezing Man\"]|\n",
            "|tt0000009|       1|nm0063086| actress| \\N|[\"Miss Geraldine ...|\n",
            "|tt0000009|       2|nm0183823|   actor| \\N|    [\"Mr. Hamilton\"]|\n",
            "|tt0000009|       3|nm1309758|   actor| \\N|[\"Chauncey Depew ...|\n",
            "|tt0000011|       1|nm3692297|   actor| \\N|        [\"Acrobats\"]|\n",
            "|tt0000014|       1|nm0166380|   actor| \\N|    [\"The Gardener\"]|\n",
            "+---------+--------+---------+--------+---+--------------------+\n",
            "only showing top 10 rows\n",
            "\n"
          ],
          "name": "stdout"
        }
      ]
    },
    {
      "cell_type": "markdown",
      "metadata": {
        "id": "g24dTfCnUAKy"
      },
      "source": [
        "And then we extrapolate the movies from the table FilmTitle, since we need to use them as baskets"
      ]
    },
    {
      "cell_type": "code",
      "metadata": {
        "colab": {
          "base_uri": "https://localhost:8080/"
        },
        "id": "f6F6KbG3UeNz",
        "outputId": "6680eaa4-7dbc-42a6-a394-04fb5e795e13"
      },
      "source": [
        "movies =  \"\"\" SELECT *\n",
        "              FROM FilmTitle\n",
        "              WHERE titleType = 'movie'\n",
        "         \"\"\"\n",
        "movies = sqlContext.sql(movies)\n",
        "movies.show(10)"
      ],
      "execution_count": null,
      "outputs": [
        {
          "output_type": "stream",
          "text": [
            "+---------+---------+--------------------+--------------------+-------+---------+-------+--------------+--------------------+\n",
            "|   tconst|titleType|        primaryTitle|       originalTitle|isAdult|startYear|endYear|runtimeMinutes|              genres|\n",
            "+---------+---------+--------------------+--------------------+-------+---------+-------+--------------+--------------------+\n",
            "|tt0000009|    movie|          Miss Jerry|          Miss Jerry|      0|     1894|     \\N|            45|             Romance|\n",
            "|tt0000147|    movie|The Corbett-Fitzs...|The Corbett-Fitzs...|      0|     1897|     \\N|            20|Documentary,News,...|\n",
            "|tt0000335|    movie|Soldiers of the C...|Soldiers of the C...|      0|     1900|     \\N|            \\N|     Biography,Drama|\n",
            "|tt0000502|    movie|            Bohemios|            Bohemios|      0|     1905|     \\N|           100|                  \\N|\n",
            "|tt0000574|    movie|The Story of the ...|The Story of the ...|      0|     1906|     \\N|            70|Biography,Crime,D...|\n",
            "|tt0000615|    movie|  Robbery Under Arms|  Robbery Under Arms|      0|     1907|     \\N|            \\N|               Drama|\n",
            "|tt0000630|    movie|              Hamlet|              Amleto|      0|     1908|     \\N|            \\N|               Drama|\n",
            "|tt0000675|    movie|         Don Quijote|         Don Quijote|      0|     1908|     \\N|            \\N|               Drama|\n",
            "|tt0000676|    movie|Don Álvaro o la f...|Don Álvaro o la f...|      0|     1908|     \\N|            \\N|               Drama|\n",
            "|tt0000679|    movie|The Fairylogue an...|The Fairylogue an...|      0|     1908|     \\N|           120|   Adventure,Fantasy|\n",
            "+---------+---------+--------------------+--------------------+-------+---------+-------+--------------+--------------------+\n",
            "only showing top 10 rows\n",
            "\n"
          ],
          "name": "stdout"
        }
      ]
    },
    {
      "cell_type": "markdown",
      "metadata": {
        "id": "Zmp-TajhYtGB"
      },
      "source": [
        "Finally, we create the baskets joining the \"Job\" and \"FilmTitle\" tables considering only the actors, actresses and movies. Then we group by the ID of actors and actresses (tconst) and we list the title of the films in which they played under the 'ncosnt' column."
      ]
    },
    {
      "cell_type": "code",
      "metadata": {
        "colab": {
          "base_uri": "https://localhost:8080/"
        },
        "id": "GQSJoS_OYxgp",
        "outputId": "9eaf119e-affa-4122-c56c-e6a71af05e2c"
      },
      "source": [
        "B =  \"\"\"  SELECT Job.tconst, Job.nconst\n",
        "          FROM Job LEFT JOIN FilmTitle ON Job.tconst = FilmTitle.tconst\n",
        "          WHERE (Job.category == 'actor' OR Job.category == 'actress') AND FilmTitle.titleType == 'movie'\n",
        "\"\"\"\n",
        "a = sqlContext.sql(B)\n",
        "baskets = a.groupBy('tconst').agg(collect_set('nconst').alias('nconst'))\n",
        "baskets.createOrReplaceTempView('baskets')\n",
        "baskets.show(5)"
      ],
      "execution_count": null,
      "outputs": [
        {
          "output_type": "stream",
          "text": [
            "+---------+--------------------+\n",
            "|   tconst|              nconst|\n",
            "+---------+--------------------+\n",
            "|tt0002591|[nm0029806, nm050...|\n",
            "|tt0003689|[nm0910564, nm052...|\n",
            "|tt0004272|[nm0368875, nm009...|\n",
            "|tt0004336|[nm0268437, nm081...|\n",
            "|tt0005209|[nm0593671, nm039...|\n",
            "+---------+--------------------+\n",
            "only showing top 5 rows\n",
            "\n"
          ],
          "name": "stdout"
        }
      ]
    },
    {
      "cell_type": "markdown",
      "metadata": {
        "id": "7X7p--uT0tLG"
      },
      "source": [
        "Here we create a Resilient Distributed Dataset"
      ]
    },
    {
      "cell_type": "code",
      "metadata": {
        "id": "KvYK8I5t1yPE",
        "colab": {
          "base_uri": "https://localhost:8080/"
        },
        "outputId": "0ee489b0-71ba-412e-b816-68b463ed7280"
      },
      "source": [
        "act_bask = baskets.select('nconst').rdd.flatMap(list)\n",
        "print(act_bask.collect()[:3])"
      ],
      "execution_count": null,
      "outputs": [
        {
          "output_type": "stream",
          "text": [
            "[['nm0029806', 'nm0509573'], ['nm0910564', 'nm0527801', 'nm0399988', 'nm0101071', 'nm0694718', 'nm0728289', 'nm0585503'], ['nm0368875', 'nm0092665', 'nm0492302', 'nm0445507', 'nm0776747', 'nm0383278', 'nm0192062', 'nm0285643', 'nm0793189']]\n"
          ],
          "name": "stdout"
        }
      ]
    },
    {
      "cell_type": "markdown",
      "metadata": {
        "id": "2RjMK0DxzgMU"
      },
      "source": [
        "## The A-Priori Algorithm"
      ]
    },
    {
      "cell_type": "markdown",
      "metadata": {
        "id": "tdKao1iEEzE0"
      },
      "source": [
        "We initialize a threshold value after which the pairs of actors and actresses are considered frequent using a fraction (0.03%) of the number of baskets "
      ]
    },
    {
      "cell_type": "code",
      "metadata": {
        "id": "-widizJtzlxg",
        "colab": {
          "base_uri": "https://localhost:8080/"
        },
        "outputId": "a6b6ac25-d85b-4aaa-d0e5-c761c969067f"
      },
      "source": [
        "count = act_bask.count()\n",
        "threshold = count*0.0003\n",
        "print(count, threshold)\n"
      ],
      "execution_count": null,
      "outputs": [
        {
          "output_type": "stream",
          "text": [
            "393656 118.09679999999999\n"
          ],
          "name": "stdout"
        }
      ]
    },
    {
      "cell_type": "markdown",
      "metadata": {
        "id": "q52NpoijSZsc"
      },
      "source": [
        "Exploiting the functions \"map\", \"reduceByKey\" and \"filter\" of Spark (https://spark.apache.org/docs/latest/rdd-programming-guide.html) we create the A-Priori algorithm: this function takes as input an RDD and a threshold (previously defined); in the following we describe in details the code:\n",
        "- singleton: through .flatMap we create a list, subsequently .map maps the item creating a tuple with the ID of the actor/actress and a counter (number of film in which he/her partecipated), then .reduceByKey, using actor/actress as key, sum their values up and finally .filter check if the counter of the previuos tuple is greater or equal than the threshold.\n",
        "- freq_act: with .map we extrapolate from 'singleton' only the ID of the frequent actors/actresses\n",
        "- pairs_of_freq_act = using .toLocalIterator we find all the possible pairs within the frequent_act\n",
        "- table_of_pairs: through .flatMap we create a list and we add to it each item in pairs_of_freq_act that is a subset of a basket, then with .reduceByKey we sum up the actors/actresses using them as keys and finally with .filter we filter out all the items that have the second component (item[1], i.e. the counter) greater than the threshold."
      ]
    },
    {
      "cell_type": "code",
      "metadata": {
        "id": "tYQMZ8OEjLJq"
      },
      "source": [
        "def apriori (rdd, threshold):\n",
        "  \n",
        "  singleton = rdd.flatMap(list).map(lambda item: (item , 1)).reduceByKey(lambda actor1, actor2: actor1+actor2).filter(lambda item: item[1] >= threshold ) \n",
        "\n",
        "  freq_act = singleton.map(lambda item : (item[0])) # all the pair of frequent items \n",
        "\n",
        "  pairs_of_freq_act = list(itertools.combinations(freq_act.toLocalIterator(),2)) # finding all the possible pairs\n",
        "  \n",
        "  table_of_pairs = rdd.flatMap(lambda x : [(tuple(item), 1) for item in pairs_of_freq_act if set(list(item)).issubset(set(x))]).cache() \\\n",
        "                  .reduceByKey(lambda actor1, actor2: actor1+actor2) \\\n",
        "                  .filter(lambda item: item[1] >= threshold)\n",
        "\n",
        "  return (table_of_pairs)"
      ],
      "execution_count": null,
      "outputs": []
    },
    {
      "cell_type": "markdown",
      "metadata": {
        "id": "WXIXwuoAfvc-"
      },
      "source": [
        "We run the A-Priori algorithm on on the enitre dataset and then we put the results into a dataframe in order to show tham in a pretty way "
      ]
    },
    {
      "cell_type": "code",
      "metadata": {
        "colab": {
          "base_uri": "https://localhost:8080/"
        },
        "id": "pW5nhNbDiVyW",
        "outputId": "33b0901e-2da8-471c-8b3a-7fd0ad9c4005"
      },
      "source": [
        "AprioriResults = apriori(act_bask, threshold)\n",
        "result = sqlContext.createDataFrame(AprioriResults).toDF(\"Pairs of actors and actresses\", \"Number of movies\")\n",
        "result.show()"
      ],
      "execution_count": null,
      "outputs": [
        {
          "output_type": "stream",
          "text": [
            "+-----------------------------+----------------+\n",
            "|Pairs of actors and actresses|Number of movies|\n",
            "+-----------------------------+----------------+\n",
            "|         {nm0623427, nm000...|             237|\n",
            "|         {nm0006982, nm061...|             122|\n",
            "|         {nm0006982, nm041...|             162|\n",
            "|         {nm0046850, nm000...|             169|\n",
            "|         {nm2082516, nm064...|             147|\n",
            "|         {nm2373718, nm064...|             126|\n",
            "+-----------------------------+----------------+\n",
            "\n"
          ],
          "name": "stdout"
        }
      ]
    },
    {
      "cell_type": "markdown",
      "metadata": {
        "id": "1NZFRmjtyhVk"
      },
      "source": [
        "Now we calculate the time necessary for running the algorithm on the entire dataset"
      ]
    },
    {
      "cell_type": "code",
      "metadata": {
        "colab": {
          "base_uri": "https://localhost:8080/"
        },
        "id": "K9MfCCgwyWAL",
        "outputId": "743b2969-45b0-4e3e-8569-bcb669875f5f"
      },
      "source": [
        "startTime = time.time()\n",
        "apriori(act_bask, threshold)\n",
        "APrioriTime = time.time()-startTime\n",
        "print(time.time()-startTime)"
      ],
      "execution_count": null,
      "outputs": [
        {
          "output_type": "stream",
          "text": [
            "34.578014850616455\n"
          ],
          "name": "stdout"
        }
      ]
    },
    {
      "cell_type": "markdown",
      "metadata": {
        "id": "9NlAviUqqE8D"
      },
      "source": [
        "## FP Growth Algorithm"
      ]
    },
    {
      "cell_type": "markdown",
      "metadata": {
        "id": "MYv0TXMTo0xj"
      },
      "source": [
        "Using the library of FPGrowth we launch it and we calculate the running time"
      ]
    },
    {
      "cell_type": "code",
      "metadata": {
        "colab": {
          "base_uri": "https://localhost:8080/"
        },
        "id": "XBk-2WC0qRo2",
        "outputId": "377f1f7f-129d-4b75-f833-fad4014d01e8"
      },
      "source": [
        "from pyspark.ml.fpm import FPGrowth\n",
        "startTime = time.time()\n",
        "fp = FPGrowth(itemsCol = \"nconst\", minSupport = 0.0003)\n",
        "startTime = time.time()\n",
        "FPGrowth_model = fp.fit(baskets)\n",
        "FPGrowthTime = time.time()- startTime\n",
        "print(time.time()- startTime)"
      ],
      "execution_count": null,
      "outputs": [
        {
          "output_type": "stream",
          "text": [
            "15.930326461791992\n"
          ],
          "name": "stdout"
        }
      ]
    },
    {
      "cell_type": "markdown",
      "metadata": {
        "id": "_SqxSi1DrUiY"
      },
      "source": [
        "We display the 10 most frequent items"
      ]
    },
    {
      "cell_type": "code",
      "metadata": {
        "colab": {
          "base_uri": "https://localhost:8080/"
        },
        "id": "Y_W6Ya_-ryN3",
        "outputId": "41437c76-c4f7-42ed-b598-dc0534b4939e"
      },
      "source": [
        "FPGrowth_model.freqItemsets.show(10)"
      ],
      "execution_count": null,
      "outputs": [
        {
          "output_type": "stream",
          "text": [
            "+-----------+----+\n",
            "|      items|freq|\n",
            "+-----------+----+\n",
            "|[nm1388202]| 153|\n",
            "|[nm0430646]| 120|\n",
            "|[nm0103977]| 798|\n",
            "|[nm0006982]| 585|\n",
            "|[nm0436922]| 152|\n",
            "|[nm0408381]| 120|\n",
            "|[nm0648803]| 565|\n",
            "|[nm0405977]| 152|\n",
            "|[nm0576495]| 120|\n",
            "|[nm0579663]| 120|\n",
            "+-----------+----+\n",
            "only showing top 10 rows\n",
            "\n"
          ],
          "name": "stdout"
        }
      ]
    },
    {
      "cell_type": "code",
      "metadata": {
        "id": "-l1awOXEr1xm"
      },
      "source": [
        "FPGrowth_model= FPGrowth_model.freqItemsets\n",
        "FPGrowth_model.createOrReplaceTempView(\"FPGrowth_model\")"
      ],
      "execution_count": null,
      "outputs": []
    },
    {
      "cell_type": "code",
      "metadata": {
        "colab": {
          "base_uri": "https://localhost:8080/"
        },
        "id": "o-DuCRBor5J2",
        "outputId": "e21a9573-67e7-4d87-d8c0-9c8e3a4f1a66"
      },
      "source": [
        "q = \"\"\" SELECT *\n",
        "        FROM FPGrowth_model \n",
        "        WHERE size (items) >= 2\n",
        "        ORDER BY freq DESC\n",
        "        \"\"\"\n",
        "sqlContext.sql(q).show(10)"
      ],
      "execution_count": null,
      "outputs": [
        {
          "output_type": "stream",
          "text": [
            "+--------------------+----+\n",
            "|               items|freq|\n",
            "+--------------------+----+\n",
            "|[nm0623427, nm000...| 237|\n",
            "|[nm0046850, nm000...| 169|\n",
            "|[nm0419653, nm000...| 162|\n",
            "|[nm2082516, nm064...| 147|\n",
            "|[nm2373718, nm064...| 126|\n",
            "|[nm0619779, nm000...| 122|\n",
            "+--------------------+----+\n",
            "\n"
          ],
          "name": "stdout"
        }
      ]
    },
    {
      "cell_type": "markdown",
      "metadata": {
        "id": "1hfpcBJEyOwo"
      },
      "source": [
        "## Running time comparisons between A-Priori and FP Growth algorithms "
      ]
    },
    {
      "cell_type": "markdown",
      "metadata": {
        "id": "w7n3lX_D0ABZ"
      },
      "source": [
        "A-Priori vs FP Growth given the entire dataset and the same threshold (0.0003)"
      ]
    },
    {
      "cell_type": "code",
      "metadata": {
        "colab": {
          "base_uri": "https://localhost:8080/",
          "height": 279
        },
        "id": "xQZHxn0N4Pp6",
        "outputId": "90f0704e-a9d3-4bfc-e14b-0e9aaf55237b"
      },
      "source": [
        "df = pd.DataFrame({'Type of algorithm':['APrioriTime', 'FPGrowthTime'], 'Time':[APrioriTime,FPGrowthTime]})\n",
        "barplot = df.plot.bar(x='Type of algorithm', y='Time', rot = 0, color= 'g')"
      ],
      "execution_count": null,
      "outputs": [
        {
          "output_type": "display_data",
          "data": {
            "image/png": "[encoded data removed]",
            "text/plain": [
              "<Figure size 432x288 with 1 Axes>"
            ]
          },
          "metadata": {
            "tags": []
          }
        }
      ]
    },
    {
      "cell_type": "markdown",
      "metadata": {
        "id": "SiP5GjCUyVK4"
      },
      "source": [
        "A-Priori vs FP Growth given the entire dataset but different threshold values, run on COLAB"
      ]
    },
    {
      "cell_type": "code",
      "metadata": {
        "colab": {
          "base_uri": "https://localhost:8080/",
          "height": 279
        },
        "id": "VLmmn5MAyhyL",
        "outputId": "c32c6ff0-ceea-410b-9f53-5184ed49049e"
      },
      "source": [
        "%matplotlib inline\n",
        "x = [0.0001, 0.0002, 0.0003, 0.0004, 0.0005, 0.0006, 0.0007, 0.0008, 0.0009, 0.001]\n",
        "y = [168.30824089050293,53.98464870452881,53.07268238067627,50.30917692184448,50.021188735961914,49.92609214782715,49.81086301803589,49.619282960891724,\n",
        "     49.52366256713867,50.62602353096008]\n",
        "plt.plot(x, y, label='A-Priori')\n",
        "\n",
        "a = [0.0001, 0.0002, 0.0003, 0.0004, 0.0005, 0.0006, 0.0007, 0.0008, 0.0009, 0.001]\n",
        "b = [76.92273926734924,75.54928350448608,76.14759802818298,76.14860796928406,75.51765608787537,76.26800203323364,76.12276768684387,75.29264044761658,\n",
        "     74.58063530921936,74.95723581314087]\n",
        "plt.plot(a, b, label='FP Growth')\n",
        "\n",
        "plt.xlabel(\"Threshold size\")\n",
        "plt.ylabel(\"Seconds\")\n",
        "\n",
        "c = plt.legend()\n",
        "plt.savefig('A-Priori vs FP.pdf')\n",
        "plt.show()"
      ],
      "execution_count": null,
      "outputs": [
        {
          "output_type": "display_data",
          "data": {
            "image/png": "[encoded data removed]",
            "text/plain": [
              "<Figure size 432x288 with 1 Axes>"
            ]
          },
          "metadata": {
            "tags": []
          }
        }
      ]
    },
    {
      "cell_type": "markdown",
      "metadata": {
        "id": "PkqtjGLA7Bnh"
      },
      "source": [
        "A-Priori vs FP Growth given the entire dataset but different threshold values, run on the Google Cloud Platform's VM"
      ]
    },
    {
      "cell_type": "code",
      "metadata": {
        "colab": {
          "base_uri": "https://localhost:8080/",
          "height": 279
        },
        "id": "-oHhceJy7CX4",
        "outputId": "1d47f905-f9de-499e-917e-290c0ba9259d"
      },
      "source": [
        "%matplotlib inline\n",
        "x = [0.0001, 0.0002, 0.0003, 0.0004, 0.0005, 0.0006, 0.0007, 0.0008, 0.0009, 0.001]\n",
        "y = [33.20604872703552,32.940818309783936,31.111687421798706,31.05544662475586,28.253437519073486,29.52706813812256,\n",
        "    27.911072731018066,28.486892223358154,32.56802487373352,30.852026224136353]\n",
        "plt.plot(x, y, label='A-Priori')\n",
        "\n",
        "a = [0.0001, 0.0002, 0.0003, 0.0004, 0.0005, 0.0006, 0.0007, 0.0008, 0.0009, 0.001]\n",
        "b = [16.866843700408936,16.3917453289032,17.964827060699463,15.945896625518799,15.984309434890747,16.67537784576416,\n",
        "    17.164546251296997,16.111791610717773,15.885606050491333,16.331362009048462]\n",
        "plt.plot(a, b, label='FP Growth')\n",
        "\n",
        "plt.xlabel(\"Threshold size\")\n",
        "plt.ylabel(\"Seconds\")\n",
        "\n",
        "c = plt.legend()\n",
        "plt.savefig('A-Priori vs FP.pdf')\n",
        "plt.show()"
      ],
      "execution_count": null,
      "outputs": [
        {
          "output_type": "display_data",
          "data": {
            "image/png": "[encoded data removed]",
            "text/plain": [
              "<Figure size 432x288 with 1 Axes>"
            ]
          },
          "metadata": {
            "tags": [],
            "needs_background": "light"
          }
        }
      ]
    },
    {
      "cell_type": "markdown",
      "metadata": {
        "id": "ki4qYuds786Q"
      },
      "source": [
        "Running time comparison between COLAB and the VM"
      ]
    },
    {
      "cell_type": "code",
      "metadata": {
        "colab": {
          "base_uri": "https://localhost:8080/",
          "height": 279
        },
        "id": "EG196_rg76jc",
        "outputId": "8575bd9b-9c3f-4d6d-8bfb-d2d0f62d8bf4"
      },
      "source": [
        "%matplotlib inline\n",
        "x = [0.0001, 0.0002, 0.0003, 0.0004, 0.0005, 0.0006, 0.0007, 0.0008, 0.0009, 0.001]\n",
        "y = [168.30824089050293,53.98464870452881,53.07268238067627,50.30917692184448,50.021188735961914,49.92609214782715,49.81086301803589,49.619282960891724,\n",
        "     49.52366256713867,50.62602353096008]\n",
        "plt.plot(x, y, label='A-Priori COLAB')\n",
        "\n",
        "a = [0.0001, 0.0002, 0.0003, 0.0004, 0.0005, 0.0006, 0.0007, 0.0008, 0.0009, 0.001]\n",
        "b = [76.92273926734924,75.54928350448608,76.14759802818298,76.14860796928406,75.51765608787537,76.26800203323364,76.12276768684387,75.29264044761658,\n",
        "     74.58063530921936,74.95723581314087]\n",
        "plt.plot(a, b, label='FP Growth COLAB ')\n",
        "\n",
        "c = [0.0001, 0.0002, 0.0003, 0.0004, 0.0005, 0.0006, 0.0007, 0.0008, 0.0009, 0.001]\n",
        "d = [33.20604872703552,32.940818309783936,31.111687421798706,31.05544662475586,28.253437519073486,29.52706813812256,\n",
        "    27.911072731018066,28.486892223358154,32.56802487373352,30.852026224136353]\n",
        "plt.plot(c, d, label='A-Priori VM')\n",
        "\n",
        "e = [0.0001, 0.0002, 0.0003, 0.0004, 0.0005, 0.0006, 0.0007, 0.0008, 0.0009, 0.001]\n",
        "f = [16.866843700408936,16.3917453289032,17.964827060699463,15.945896625518799,15.984309434890747,16.67537784576416,\n",
        "    17.164546251296997,16.111791610717773,15.885606050491333,16.331362009048462]\n",
        "plt.plot(e, f, label='FP Growth VM')\n",
        "\n",
        "plt.xlabel(\"Threshold size\")\n",
        "plt.ylabel(\"Seconds\")\n",
        "\n",
        "c = plt.legend()\n",
        "plt.savefig('VM vs COLAB.pdf')\n",
        "plt.show()"
      ],
      "execution_count": null,
      "outputs": [
        {
          "output_type": "display_data",
          "data": {
            "image/png": "[encoded data removed]",
            "text/plain": [
              "<Figure size 432x288 with 1 Axes>"
            ]
          },
          "metadata": {
            "tags": [],
            "needs_background": "light"
          }
        }
      ]
    },
    {
      "cell_type": "markdown",
      "metadata": {
        "id": "4IcXahmEdGtH"
      },
      "source": [
        "A-Priori run through COLAB and the VM of Google Cloud Platform given the same threshold value (0.0003) but different samples of the dataset"
      ]
    },
    {
      "cell_type": "code",
      "metadata": {
        "colab": {
          "base_uri": "https://localhost:8080/",
          "height": 279
        },
        "id": "gLwDg31jc-64",
        "outputId": "727defa4-38cf-4a6f-de13-b00055989deb"
      },
      "source": [
        "%matplotlib inline\n",
        "x = [0.1, 0.2, 0.3, 0.4, 0.5, 0.6, 0.7, 0.8, 0.9, 1]\n",
        "y = [33.20604872703552,32.940818309783936,31.111687421798706,31.05544662475586,28.253437519073486,29.52706813812256,\n",
        "    27.911072731018066,28.486892223358154,32.56802487373352,30.852026224136353]\n",
        "plt.plot(x, y, label='VM')\n",
        "\n",
        "a = [0.1, 0.2, 0.3, 0.4, 0.5, 0.6, 0.7, 0.8, 0.9, 1]\n",
        "b = [59.92277193069458,47.767677783966064,47.05071759223938,46.95095682144165,46.964603424072266,49.02852916717529,\n",
        "     48.7320818901062,48.89626502990723,50.67340040206909,50.92510151863098]\n",
        "plt.plot(a, b, label='COLAB')\n",
        "\n",
        "plt.xlabel(\"Dataset size\")\n",
        "plt.ylabel(\"Seconds\")\n",
        "\n",
        "c = plt.legend()\n",
        "plt.savefig('A-Priori.pdf')\n",
        "plt.show()"
      ],
      "execution_count": null,
      "outputs": [
        {
          "output_type": "display_data",
          "data": {
            "image/png": "[encoded data removed]",
            "text/plain": [
              "<Figure size 432x288 with 1 Axes>"
            ]
          },
          "metadata": {
            "tags": [],
            "needs_background": "light"
          }
        }
      ]
    },
    {
      "cell_type": "markdown",
      "metadata": {
        "id": "qDaHFUKa7LaS"
      },
      "source": [
        "FP Growth run through COLAB and the VM of Google Cloud Platform given the same dataset's size but different threshold values"
      ]
    },
    {
      "cell_type": "code",
      "metadata": {
        "colab": {
          "base_uri": "https://localhost:8080/",
          "height": 279
        },
        "id": "iw4pfhJZ2sDx",
        "outputId": "7861c014-ad17-4b09-fa4c-510875b7d779"
      },
      "source": [
        "%matplotlib inline\n",
        "x = [0.0001, 0.0002, 0.0003, 0.0004, 0.0005, 0.0006, 0.0007, 0.0008, 0.0009, 0.001]\n",
        "y = [16.866843700408936,16.3917453289032,17.964827060699463,15.945896625518799,15.984309434890747,16.67537784576416,\n",
        "    17.164546251296997,16.111791610717773,15.885606050491333,16.331362009048462]\n",
        "plt.plot(x, y, label='VM')\n",
        "\n",
        "a = [0.0001, 0.0002, 0.0003, 0.0004, 0.0005, 0.0006, 0.0007, 0.0008, 0.0009, 0.001]\n",
        "b = [76.92273926734924,75.54928350448608,76.14759802818298,76.14860796928406,75.51765608787537,76.26800203323364,76.12276768684387,75.29264044761658,\n",
        "     74.58063530921936,74.95723581314087]\n",
        "plt.plot(a, b, label='COLAB')\n",
        "\n",
        "plt.xlabel(\"Threshold size\")\n",
        "plt.ylabel(\"Seconds\")\n",
        "\n",
        "c = plt.legend()\n",
        "plt.savefig('FP Growth.pdf')\n",
        "plt.show()"
      ],
      "execution_count": null,
      "outputs": [
        {
          "output_type": "display_data",
          "data": {
            "image/png": "[encoded data removed]",
            "text/plain": [
              "<Figure size 432x288 with 1 Axes>"
            ]
          },
          "metadata": {
            "tags": [],
            "needs_background": "light"
          }
        }
      ]
    }
  ]
}